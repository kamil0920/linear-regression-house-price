{
 "cells": [
  {
   "cell_type": "code",
   "execution_count": 97,
   "metadata": {
    "pycharm": {
     "name": "#%%\n"
    }
   },
   "outputs": [],
   "source": [
    "import time\n",
    "import warnings\n",
    "from IPython.display import display\n",
    "\n",
    "import catboost as ctb\n",
    "import lightgbm as lgb\n",
    "import numpy as np\n",
    "import pandas as pd\n",
    "import plotly.express as px\n",
    "import plotly.graph_objects as go\n",
    "import seaborn as sns\n",
    "import xgboost as xgb\n",
    "\n",
    "from sklearn.linear_model import LinearRegression\n",
    "from sklearn.model_selection import train_test_split\n",
    "from sklearn.model_selection import GridSearchCV\n",
    "\n",
    "from sklearn.ensemble import RandomForestRegressor\n",
    "from preprocess.AnovaTestCategoricalFeature import AnovaTest\n",
    "\n",
    "# Pipeline\n",
    "from sklearn.pipeline import Pipeline\n",
    "\n",
    "## zmienne kategoryczne\n",
    "from sklearn.preprocessing import OrdinalEncoder, RobustScaler, StandardScaler\n",
    "\n",
    "from preprocess.CustomIterativeImputer import CustomIterativeImputer\n",
    "from preprocess.BinningFeature import BinningFeature\n",
    "\n",
    "from preprocess.SelectorNumericalFeature import FeatureSelector\n",
    "import category_encoders as ce\n",
    "from preprocess.NeighbourhoodUtil import NeighbourhoodUtil\n",
    "from preprocess.TransformerNumericalFeature import NumericalFeatureCleaner\n",
    "\n",
    "np.random.seed(42)\n",
    "sns.set(font_scale=1.3)\n",
    "warnings.filterwarnings('ignore')\n",
    "%matplotlib inline"
   ]
  },
  {
   "cell_type": "code",
   "execution_count": 98,
   "outputs": [],
   "source": [
    "def display_all(df):\n",
    "    with pd.option_context(\"display.max_rows\", 1000, \"display.max_columns\", 1000, \"display.precision\", 6):\n",
    "        display(df)"
   ],
   "metadata": {
    "collapsed": false,
    "pycharm": {
     "name": "#%%\n"
    }
   }
  },
  {
   "cell_type": "code",
   "execution_count": 101,
   "metadata": {
    "pycharm": {
     "name": "#%%\n"
    }
   },
   "outputs": [],
   "source": [
    "# Path of the file to read. We changed the directory structure to simplify submitting to a competition\n",
    "home_data_train = 'data/train.csv'\n",
    "home_data_test = 'data/test.csv'\n",
    "\n",
    "X_train_dataset = pd.read_csv(home_data_train)\n",
    "X_test_dataset = pd.read_csv(home_data_test)"
   ]
  },
  {
   "cell_type": "code",
   "execution_count": 102,
   "outputs": [],
   "source": [
    "X_train_dataset.MSSubClass = X_train_dataset.MSSubClass.astype('category')\n",
    "X_test_dataset.MSSubClass = X_test_dataset.MSSubClass.astype('category')\n",
    "\n",
    "X_train_dataset.MSSubClass = X_train_dataset.MSSubClass.cat.add_categories('None')\n",
    "X_test_dataset.MSSubClass = X_test_dataset.MSSubClass.cat.add_categories('None')"
   ],
   "metadata": {
    "collapsed": false,
    "pycharm": {
     "name": "#%%\n"
    }
   }
  },
  {
   "cell_type": "code",
   "execution_count": 103,
   "outputs": [
    {
     "data": {
      "text/plain": "        Id MSSubClass MSZoning  LotFrontage  LotArea Street Alley LotShape  \\\n0     1461         20       RH         80.0    11622   Pave   NaN      Reg   \n1     1462         20       RL         81.0    14267   Pave   NaN      IR1   \n2     1463         60       RL         74.0    13830   Pave   NaN      IR1   \n3     1464         60       RL         78.0     9978   Pave   NaN      IR1   \n4     1465        120       RL         43.0     5005   Pave   NaN      IR1   \n...    ...        ...      ...          ...      ...    ...   ...      ...   \n1454  2915        160       RM         21.0     1936   Pave   NaN      Reg   \n1455  2916        160       RM         21.0     1894   Pave   NaN      Reg   \n1456  2917         20       RL        160.0    20000   Pave   NaN      Reg   \n1457  2918         85       RL         62.0    10441   Pave   NaN      Reg   \n1458  2919         60       RL         74.0     9627   Pave   NaN      Reg   \n\n     LandContour Utilities  ... PoolArea PoolQC  Fence MiscFeature MiscVal  \\\n0            Lvl    AllPub  ...        0    NaN  MnPrv         NaN       0   \n1            Lvl    AllPub  ...        0    NaN    NaN        Gar2   12500   \n2            Lvl    AllPub  ...        0    NaN  MnPrv         NaN       0   \n3            Lvl    AllPub  ...        0    NaN    NaN         NaN       0   \n4            HLS    AllPub  ...        0    NaN    NaN         NaN       0   \n...          ...       ...  ...      ...    ...    ...         ...     ...   \n1454         Lvl    AllPub  ...        0    NaN    NaN         NaN       0   \n1455         Lvl    AllPub  ...        0    NaN    NaN         NaN       0   \n1456         Lvl    AllPub  ...        0    NaN    NaN         NaN       0   \n1457         Lvl    AllPub  ...        0    NaN  MnPrv        Shed     700   \n1458         Lvl    AllPub  ...        0    NaN    NaN         NaN       0   \n\n     MoSold  YrSold  SaleType  SaleCondition  NeighborhoodRegion  \n0         6    2010        WD         Normal             Missing  \n1         6    2010        WD         Normal             Missing  \n2         3    2010        WD         Normal               North  \n3         6    2010        WD         Normal               North  \n4         1    2010        WD         Normal               North  \n...     ...     ...       ...            ...                 ...  \n1454      6    2006        WD         Normal           SouthWest  \n1455      4    2006        WD        Abnorml           SouthWest  \n1456      9    2006        WD        Abnorml           SouthWest  \n1457      7    2006        WD         Normal           SouthWest  \n1458     11    2006        WD         Normal           SouthWest  \n\n[1459 rows x 80 columns]",
      "text/html": "<div>\n<style scoped>\n    .dataframe tbody tr th:only-of-type {\n        vertical-align: middle;\n    }\n\n    .dataframe tbody tr th {\n        vertical-align: top;\n    }\n\n    .dataframe thead th {\n        text-align: right;\n    }\n</style>\n<table border=\"1\" class=\"dataframe\">\n  <thead>\n    <tr style=\"text-align: right;\">\n      <th></th>\n      <th>Id</th>\n      <th>MSSubClass</th>\n      <th>MSZoning</th>\n      <th>LotFrontage</th>\n      <th>LotArea</th>\n      <th>Street</th>\n      <th>Alley</th>\n      <th>LotShape</th>\n      <th>LandContour</th>\n      <th>Utilities</th>\n      <th>...</th>\n      <th>PoolArea</th>\n      <th>PoolQC</th>\n      <th>Fence</th>\n      <th>MiscFeature</th>\n      <th>MiscVal</th>\n      <th>MoSold</th>\n      <th>YrSold</th>\n      <th>SaleType</th>\n      <th>SaleCondition</th>\n      <th>NeighborhoodRegion</th>\n    </tr>\n  </thead>\n  <tbody>\n    <tr>\n      <th>0</th>\n      <td>1461</td>\n      <td>20</td>\n      <td>RH</td>\n      <td>80.0</td>\n      <td>11622</td>\n      <td>Pave</td>\n      <td>NaN</td>\n      <td>Reg</td>\n      <td>Lvl</td>\n      <td>AllPub</td>\n      <td>...</td>\n      <td>0</td>\n      <td>NaN</td>\n      <td>MnPrv</td>\n      <td>NaN</td>\n      <td>0</td>\n      <td>6</td>\n      <td>2010</td>\n      <td>WD</td>\n      <td>Normal</td>\n      <td>Missing</td>\n    </tr>\n    <tr>\n      <th>1</th>\n      <td>1462</td>\n      <td>20</td>\n      <td>RL</td>\n      <td>81.0</td>\n      <td>14267</td>\n      <td>Pave</td>\n      <td>NaN</td>\n      <td>IR1</td>\n      <td>Lvl</td>\n      <td>AllPub</td>\n      <td>...</td>\n      <td>0</td>\n      <td>NaN</td>\n      <td>NaN</td>\n      <td>Gar2</td>\n      <td>12500</td>\n      <td>6</td>\n      <td>2010</td>\n      <td>WD</td>\n      <td>Normal</td>\n      <td>Missing</td>\n    </tr>\n    <tr>\n      <th>2</th>\n      <td>1463</td>\n      <td>60</td>\n      <td>RL</td>\n      <td>74.0</td>\n      <td>13830</td>\n      <td>Pave</td>\n      <td>NaN</td>\n      <td>IR1</td>\n      <td>Lvl</td>\n      <td>AllPub</td>\n      <td>...</td>\n      <td>0</td>\n      <td>NaN</td>\n      <td>MnPrv</td>\n      <td>NaN</td>\n      <td>0</td>\n      <td>3</td>\n      <td>2010</td>\n      <td>WD</td>\n      <td>Normal</td>\n      <td>North</td>\n    </tr>\n    <tr>\n      <th>3</th>\n      <td>1464</td>\n      <td>60</td>\n      <td>RL</td>\n      <td>78.0</td>\n      <td>9978</td>\n      <td>Pave</td>\n      <td>NaN</td>\n      <td>IR1</td>\n      <td>Lvl</td>\n      <td>AllPub</td>\n      <td>...</td>\n      <td>0</td>\n      <td>NaN</td>\n      <td>NaN</td>\n      <td>NaN</td>\n      <td>0</td>\n      <td>6</td>\n      <td>2010</td>\n      <td>WD</td>\n      <td>Normal</td>\n      <td>North</td>\n    </tr>\n    <tr>\n      <th>4</th>\n      <td>1465</td>\n      <td>120</td>\n      <td>RL</td>\n      <td>43.0</td>\n      <td>5005</td>\n      <td>Pave</td>\n      <td>NaN</td>\n      <td>IR1</td>\n      <td>HLS</td>\n      <td>AllPub</td>\n      <td>...</td>\n      <td>0</td>\n      <td>NaN</td>\n      <td>NaN</td>\n      <td>NaN</td>\n      <td>0</td>\n      <td>1</td>\n      <td>2010</td>\n      <td>WD</td>\n      <td>Normal</td>\n      <td>North</td>\n    </tr>\n    <tr>\n      <th>...</th>\n      <td>...</td>\n      <td>...</td>\n      <td>...</td>\n      <td>...</td>\n      <td>...</td>\n      <td>...</td>\n      <td>...</td>\n      <td>...</td>\n      <td>...</td>\n      <td>...</td>\n      <td>...</td>\n      <td>...</td>\n      <td>...</td>\n      <td>...</td>\n      <td>...</td>\n      <td>...</td>\n      <td>...</td>\n      <td>...</td>\n      <td>...</td>\n      <td>...</td>\n      <td>...</td>\n    </tr>\n    <tr>\n      <th>1454</th>\n      <td>2915</td>\n      <td>160</td>\n      <td>RM</td>\n      <td>21.0</td>\n      <td>1936</td>\n      <td>Pave</td>\n      <td>NaN</td>\n      <td>Reg</td>\n      <td>Lvl</td>\n      <td>AllPub</td>\n      <td>...</td>\n      <td>0</td>\n      <td>NaN</td>\n      <td>NaN</td>\n      <td>NaN</td>\n      <td>0</td>\n      <td>6</td>\n      <td>2006</td>\n      <td>WD</td>\n      <td>Normal</td>\n      <td>SouthWest</td>\n    </tr>\n    <tr>\n      <th>1455</th>\n      <td>2916</td>\n      <td>160</td>\n      <td>RM</td>\n      <td>21.0</td>\n      <td>1894</td>\n      <td>Pave</td>\n      <td>NaN</td>\n      <td>Reg</td>\n      <td>Lvl</td>\n      <td>AllPub</td>\n      <td>...</td>\n      <td>0</td>\n      <td>NaN</td>\n      <td>NaN</td>\n      <td>NaN</td>\n      <td>0</td>\n      <td>4</td>\n      <td>2006</td>\n      <td>WD</td>\n      <td>Abnorml</td>\n      <td>SouthWest</td>\n    </tr>\n    <tr>\n      <th>1456</th>\n      <td>2917</td>\n      <td>20</td>\n      <td>RL</td>\n      <td>160.0</td>\n      <td>20000</td>\n      <td>Pave</td>\n      <td>NaN</td>\n      <td>Reg</td>\n      <td>Lvl</td>\n      <td>AllPub</td>\n      <td>...</td>\n      <td>0</td>\n      <td>NaN</td>\n      <td>NaN</td>\n      <td>NaN</td>\n      <td>0</td>\n      <td>9</td>\n      <td>2006</td>\n      <td>WD</td>\n      <td>Abnorml</td>\n      <td>SouthWest</td>\n    </tr>\n    <tr>\n      <th>1457</th>\n      <td>2918</td>\n      <td>85</td>\n      <td>RL</td>\n      <td>62.0</td>\n      <td>10441</td>\n      <td>Pave</td>\n      <td>NaN</td>\n      <td>Reg</td>\n      <td>Lvl</td>\n      <td>AllPub</td>\n      <td>...</td>\n      <td>0</td>\n      <td>NaN</td>\n      <td>MnPrv</td>\n      <td>Shed</td>\n      <td>700</td>\n      <td>7</td>\n      <td>2006</td>\n      <td>WD</td>\n      <td>Normal</td>\n      <td>SouthWest</td>\n    </tr>\n    <tr>\n      <th>1458</th>\n      <td>2919</td>\n      <td>60</td>\n      <td>RL</td>\n      <td>74.0</td>\n      <td>9627</td>\n      <td>Pave</td>\n      <td>NaN</td>\n      <td>Reg</td>\n      <td>Lvl</td>\n      <td>AllPub</td>\n      <td>...</td>\n      <td>0</td>\n      <td>NaN</td>\n      <td>NaN</td>\n      <td>NaN</td>\n      <td>0</td>\n      <td>11</td>\n      <td>2006</td>\n      <td>WD</td>\n      <td>Normal</td>\n      <td>SouthWest</td>\n    </tr>\n  </tbody>\n</table>\n<p>1459 rows × 80 columns</p>\n</div>"
     },
     "execution_count": 103,
     "metadata": {},
     "output_type": "execute_result"
    }
   ],
   "source": [
    "neighbourhood_util = NeighbourhoodUtil()\n",
    "X_train_dataset['NeighborhoodRegion'] = X_train_dataset['Neighborhood'].apply(neighbourhood_util.get_city_reg)\n",
    "X_train_dataset.drop(labels=['Neighborhood'], axis=1)\n",
    "X_test_dataset['NeighborhoodRegion'] = X_test_dataset['Neighborhood'].apply(neighbourhood_util.get_city_reg)\n",
    "X_test_dataset.drop(labels=['Neighborhood'], axis=1)"
   ],
   "metadata": {
    "collapsed": false,
    "pycharm": {
     "name": "#%%\n"
    }
   }
  },
  {
   "cell_type": "code",
   "execution_count": 104,
   "outputs": [
    {
     "data": {
      "text/plain": "<AxesSubplot:xlabel='SalePrice', ylabel='Density'>"
     },
     "execution_count": 104,
     "metadata": {},
     "output_type": "execute_result"
    },
    {
     "data": {
      "text/plain": "<Figure size 432x288 with 1 Axes>",
      "image/png": "[encoded data removed]"
     },
     "metadata": {
      "needs_background": "light"
     },
     "output_type": "display_data"
    }
   ],
   "source": [
    "#SalePrice\n",
    "sns.distplot(X_train_dataset['SalePrice'])"
   ],
   "metadata": {
    "collapsed": false,
    "pycharm": {
     "name": "#%%\n"
    }
   }
  },
  {
   "cell_type": "code",
   "execution_count": 105,
   "outputs": [],
   "source": [
    "# X_train_dataset['SalePrice'] = np.log(X_train_dataset['SalePrice'])\n",
    "# sns.distplot(X_train_dataset['SalePrice'])"
   ],
   "metadata": {
    "collapsed": false,
    "pycharm": {
     "name": "#%%\n"
    }
   }
  },
  {
   "cell_type": "code",
   "execution_count": 106,
   "outputs": [],
   "source": [
    "y = X_train_dataset['SalePrice']\n",
    "X_train, X_val, y_train, y_val = train_test_split(X_train_dataset.drop(labels=['SalePrice'], axis=1),\n",
    "                                                  X_train_dataset.SalePrice,\n",
    "                                                  test_size=0.1,\n",
    "                                                  random_state=42)"
   ],
   "metadata": {
    "collapsed": false,
    "pycharm": {
     "name": "#%%\n"
    }
   }
  },
  {
   "cell_type": "code",
   "execution_count": 107,
   "outputs": [],
   "source": [
    "imputer = CustomIterativeImputer()\n",
    "X_train_impute = imputer.fit_transform(X_train, y_train)\n",
    "X_val_impute = imputer.fit_transform(X_val, y_val)"
   ],
   "metadata": {
    "collapsed": false,
    "pycharm": {
     "name": "#%%\n"
    }
   }
  },
  {
   "cell_type": "code",
   "execution_count": 108,
   "outputs": [],
   "source": [
    "numerical_cols = X_train.select_dtypes(include=[np.number]).columns\n",
    "categorical_cols = X_val.select_dtypes(exclude=[np.number]).columns"
   ],
   "metadata": {
    "collapsed": false,
    "pycharm": {
     "name": "#%%\n"
    }
   }
  },
  {
   "cell_type": "code",
   "execution_count": 109,
   "outputs": [],
   "source": [
    "binning_cat_feature = BinningFeature(0.92)\n",
    "X_train_binning_cat_feature = binning_cat_feature.fit_transform(X_train_impute[categorical_cols], y_train)\n",
    "X_val_binning_cat_feature = binning_cat_feature.fit_transform(X_val_impute[categorical_cols], y_val)"
   ],
   "metadata": {
    "collapsed": false,
    "pycharm": {
     "name": "#%%\n"
    }
   }
  },
  {
   "cell_type": "code",
   "execution_count": 110,
   "outputs": [],
   "source": [
    "anova_test_train = AnovaTest('SalePrice')\n",
    "X_train_anova = anova_test_train.fit_transform(X_train_binning_cat_feature[categorical_cols], y_train)\n",
    "X_val_anova = X_val_binning_cat_feature[X_train_anova.columns]"
   ],
   "metadata": {
    "collapsed": false,
    "pycharm": {
     "name": "#%%\n"
    }
   }
  },
  {
   "cell_type": "code",
   "execution_count": 111,
   "outputs": [],
   "source": [
    "ordinal_encoder = OrdinalEncoder()\n",
    "X_train_cat_enc_vals = ordinal_encoder.fit_transform(X_train_anova)\n",
    "X_val_cat_enc_vals = ordinal_encoder.fit_transform(X_val_anova)"
   ],
   "metadata": {
    "collapsed": false,
    "pycharm": {
     "name": "#%%\n"
    }
   }
  },
  {
   "cell_type": "code",
   "execution_count": 112,
   "outputs": [],
   "source": [
    "X_train_cat_enc = pd.DataFrame(X_train_cat_enc_vals, columns=X_train_anova.columns, )\n",
    "X_val_cat_enc = pd.DataFrame(X_val_cat_enc_vals, columns=X_val_anova.columns, )"
   ],
   "metadata": {
    "collapsed": false,
    "pycharm": {
     "name": "#%%\n"
    }
   }
  },
  {
   "cell_type": "code",
   "execution_count": 113,
   "outputs": [],
   "source": [
    "num_cleaner = NumericalFeatureCleaner(RobustScaler())\n",
    "X_train_clean = num_cleaner.fit_transform(X_train_impute[numerical_cols], y_train)\n",
    "X_val_clean = num_cleaner.fit_transform(X_val_impute[numerical_cols], y_val)"
   ],
   "metadata": {
    "collapsed": false,
    "pycharm": {
     "name": "#%%\n"
    }
   }
  },
  {
   "cell_type": "code",
   "execution_count": 114,
   "outputs": [],
   "source": [
    "estimator = RandomForestRegressor(n_estimators=100, max_depth=10, max_features='auto',\n",
    "                                  min_samples_leaf=4, min_samples_split=10,\n",
    "                                  n_jobs=-1, bootstrap=True)\n",
    "\n",
    "# Define steps\n",
    "step1 = {'Constant Features': {'frac_constant_values': 0.9}}\n",
    "step2 = {'Correlated Features': {'correlation_threshold': 0.8}}\n",
    "step3 = {'Relevant Features': {'estimator': estimator,\n",
    "                               'verbose': 0,\n",
    "                               'random_state': 42}}\n",
    "step4 = {'RFECV Features': {'cv': 5,\n",
    "                            'estimator': estimator,\n",
    "                            'step': 1,\n",
    "                            'scoring': 'neg_mean_squared_error',\n",
    "                            'verbose': 0}}\n",
    "\n",
    "# Place steps in a list in the order you want them execute it\n",
    "steps = [step1, step2]"
   ],
   "metadata": {
    "collapsed": false,
    "pycharm": {
     "name": "#%%\n"
    }
   }
  },
  {
   "cell_type": "code",
   "execution_count": 115,
   "outputs": [],
   "source": [
    "num_selector = FeatureSelector(steps)\n",
    "X_train_num_selected = num_selector.fit_transform(X_train_clean[numerical_cols], y_train)"
   ],
   "metadata": {
    "collapsed": false,
    "pycharm": {
     "name": "#%%\n"
    }
   }
  },
  {
   "cell_type": "code",
   "execution_count": 116,
   "outputs": [
    {
     "name": "stdout",
     "output_type": "stream",
     "text": [
      "shape all: (1314, 81)\n",
      "shape X_train_impute: (1314, 81)\n",
      "shape_X_train_binning_cat_feature: (1314, 45)\n",
      "shape X_train_anova : (1314, 42)\n",
      "shape X_train_enc : (1314, 42)\n",
      "shape X_train_clean: (1314, 36)\n",
      "shape X_train_selected: (1314, 26)\n"
     ]
    }
   ],
   "source": [
    "print(f'shape all: {X_train.shape}')\n",
    "print(f'shape X_train_impute: {X_train_impute.shape}')\n",
    "print(f'shape_X_train_binning_cat_feature: {X_train_binning_cat_feature.shape}')\n",
    "print(f'shape X_train_anova : {X_train_anova.shape}')\n",
    "print(f'shape X_train_enc : {X_train_cat_enc.shape}')\n",
    "print(f'shape X_train_clean: {X_train_clean.shape}')\n",
    "print(f'shape X_train_selected: {X_train_num_selected.shape}')"
   ],
   "metadata": {
    "collapsed": false,
    "pycharm": {
     "name": "#%%\n"
    }
   }
  },
  {
   "cell_type": "code",
   "execution_count": 117,
   "outputs": [
    {
     "name": "stdout",
     "output_type": "stream",
     "text": [
      "shape all: (146, 81)\n",
      "shape X_train_impute: (146, 81)\n",
      "shape_X_train_binning_cat_feature: (146, 45)\n",
      "shape X_train_anova : (146, 42)\n",
      "shape X_train_enc : (146, 42)\n",
      "shape X_train_clean: (146, 36)\n"
     ]
    }
   ],
   "source": [
    "print(f'shape all: {X_val.shape}')\n",
    "print(f'shape X_train_impute: {X_val_impute.shape}')\n",
    "print(f'shape_X_train_binning_cat_feature: {X_val_binning_cat_feature.shape}')\n",
    "print(f'shape X_train_anova : {X_val_anova.shape}')\n",
    "print(f'shape X_train_enc : {X_val_cat_enc.shape}')\n",
    "print(f'shape X_train_clean: {X_val_clean.shape}')"
   ],
   "metadata": {
    "collapsed": false,
    "pycharm": {
     "name": "#%%\n"
    }
   }
  },
  {
   "cell_type": "code",
   "execution_count": 118,
   "outputs": [],
   "source": [
    "result_train_df = pd.concat([X_train_num_selected, X_train_cat_enc], axis=1)\n",
    "result_val_df = pd.concat([X_val_clean[X_train_num_selected.columns], X_val_cat_enc[X_train_cat_enc.columns]], axis=1)"
   ],
   "metadata": {
    "collapsed": false,
    "pycharm": {
     "name": "#%%\n"
    }
   }
  },
  {
   "cell_type": "code",
   "execution_count": 119,
   "outputs": [
    {
     "name": "stdout",
     "output_type": "stream",
     "text": [
      "shape result_train_df : (1314, 68)\n",
      "shape result_val_df: (146, 68)\n"
     ]
    }
   ],
   "source": [
    "print(f'shape result_train_df : {result_train_df.shape}')\n",
    "print(f'shape result_val_df: {result_val_df.shape}')"
   ],
   "metadata": {
    "collapsed": false,
    "pycharm": {
     "name": "#%%\n"
    }
   }
  },
  {
   "cell_type": "code",
   "execution_count": 120,
   "outputs": [
    {
     "name": "stdout",
     "output_type": "stream",
     "text": [
      "Mean absolute error:  65964.28424948423\n"
     ]
    }
   ],
   "source": [
    "from sklearn.metrics import mean_absolute_error\n",
    "\n",
    "regression_model = LinearRegression()\n",
    "regression_model.fit(result_train_df, y_train)\n",
    "y_predicted = regression_model.predict(result_val_df)\n",
    "\n",
    "mae = mean_absolute_error(y_val, y_predicted)\n",
    "\n",
    "print('Mean absolute error: ', mae)"
   ],
   "metadata": {
    "collapsed": false,
    "pycharm": {
     "name": "#%%\n"
    }
   }
  },
  {
   "cell_type": "code",
   "execution_count": 121,
   "outputs": [],
   "source": [
    "numerical_pipe = Pipeline(steps=[\n",
    "    ('num_trans', NumericalFeatureCleaner(RobustScaler())),\n",
    "    ('num_selector', FeatureSelector(steps))\n",
    "])\n",
    "\n",
    "categorical_pipe = Pipeline(steps=[\n",
    "    ('cat_binning', BinningFeature()),\n",
    "    ('cat_selector', AnovaTest('SalePrice')),\n",
    "    ('cat_trans', ce.one_hot.OneHotEncoder(drop_invariant=True))\n",
    "])"
   ],
   "metadata": {
    "collapsed": false,
    "pycharm": {
     "name": "#%%\n"
    }
   }
  },
  {
   "cell_type": "code",
   "execution_count": 122,
   "metadata": {
    "pycharm": {
     "name": "#%%\n"
    }
   },
   "outputs": [],
   "source": [
    "from sklearn.compose import ColumnTransformer\n",
    "\n",
    "preprocessor = ColumnTransformer(\n",
    "    transformers=[\n",
    "        ('numerical', numerical_pipe, numerical_cols),\n",
    "        ('categorical', categorical_pipe, categorical_cols)\n",
    "    ])"
   ]
  },
  {
   "cell_type": "code",
   "execution_count": 123,
   "metadata": {
    "pycharm": {
     "name": "#%%\n"
    }
   },
   "outputs": [],
   "source": [
    "from sklearn.preprocessing import MaxAbsScaler\n",
    "\n",
    "scalers = [StandardScaler(), RobustScaler(), MaxAbsScaler()]\n",
    "cat_transformers = [\n",
    "    OrdinalEncoder(handle_unknown=\"use_encoded_value\", unknown_value=-1),\n",
    "    ce.backward_difference.BackwardDifferenceEncoder(),\n",
    "    ce.one_hot.OneHotEncoder(drop_invariant=True)\n",
    "]\n",
    "regressors = [\n",
    "    xgb.XGBRegressor(verbosity=1),\n",
    "    lgb.LGBMRegressor(verbose=0, ),\n",
    "    ctb.CatBoostRegressor(verbose=0, logging_level='Info')\n",
    "]"
   ]
  },
  {
   "cell_type": "code",
   "execution_count": 124,
   "metadata": {
    "pycharm": {
     "name": "#%%\n"
    }
   },
   "outputs": [],
   "source": [
    "pipe = Pipeline(steps=[\n",
    "    ('preprocessor', preprocessor),\n",
    "    ('regressor', xgb.XGBRegressor())\n",
    "])"
   ]
  },
  {
   "cell_type": "code",
   "execution_count": 125,
   "outputs": [],
   "source": [
    "X_train, X_val, y_train, y_val = train_test_split(X_train_dataset.drop(labels=['SalePrice'], axis=1),\n",
    "                                                  X_train_dataset.SalePrice,\n",
    "                                                  test_size=0.1,\n",
    "                                                  random_state=42)\n"
   ],
   "metadata": {
    "collapsed": false,
    "pycharm": {
     "name": "#%%\n"
    }
   }
  },
  {
   "cell_type": "code",
   "execution_count": 126,
   "outputs": [],
   "source": [
    "models_df = pd.DataFrame()\n",
    "pipe_params = {\n",
    "    'preprocessor__numerical__num_trans__scaler': scalers,\n",
    "    'preprocessor__categorical__cat_trans': cat_transformers\n",
    "}\n",
    "\n",
    "grid = GridSearchCV(pipe, pipe_params, cv=5, verbose=0)\n",
    "grid_est = grid.fit(X_train, y_train)"
   ],
   "metadata": {
    "collapsed": false,
    "pycharm": {
     "name": "#%%\n"
    }
   }
  },
  {
   "cell_type": "code",
   "execution_count": 127,
   "outputs": [
    {
     "name": "stdout",
     "output_type": "stream",
     "text": [
      "Training set score: 0.9998785904929235\n",
      "Test set score: 0.8999719540235254\n",
      "best_params: {'preprocessor__categorical__cat_trans': OrdinalEncoder(handle_unknown='use_encoded_value', unknown_value=-1), 'preprocessor__numerical__num_trans__scaler': RobustScaler()}\n",
      "best_pipe: Pipeline(steps=[('preprocessor',\n",
      "                 ColumnTransformer(transformers=[('numerical',\n",
      "                                                  Pipeline(steps=[('num_trans',\n",
      "                                                                   NumericalFeatureCleaner(scaler=RobustScaler())),\n",
      "                                                                  ('num_selector',\n",
      "                                                                   FeatureSelector(steps=[{'Constant Features': {'frac_constant_values': 0.9}},\n",
      "                                                                                          {'Correlated Features': {'correlation_threshold': 0.8}}]))]),\n",
      "                                                  Index(['Id', 'LotFrontage', 'LotArea', 'OverallQual'...\n",
      "                              gamma=0, gpu_id=-1, importance_type=None,\n",
      "                              interaction_constraints='',\n",
      "                              learning_rate=0.300000012, max_delta_step=0,\n",
      "                              max_depth=6, min_child_weight=1, missing=nan,\n",
      "                              monotone_constraints='()', n_estimators=100,\n",
      "                              n_jobs=24, num_parallel_tree=1, predictor='auto',\n",
      "                              random_state=0, reg_alpha=0, reg_lambda=1,\n",
      "                              scale_pos_weight=1, subsample=1,\n",
      "                              tree_method='exact', validate_parameters=1,\n",
      "                              verbosity=None))])\n"
     ]
    }
   ],
   "source": [
    "print('Training set score: ' + str(grid.score(X_train, y_train)))\n",
    "print('Test set score: ' + str(grid.score(X_val, y_val)))\n",
    "\n",
    "# \"# model evaluation\\n\",\n",
    "# \"mse = mean_squared_error(y_val, y_predicted)\\n\",\n",
    "# \"mae = mean_absolute_error(y_val, y_predicted)\\n\",\n",
    "# \"rmse = np.sqrt(mean_squared_error(y_val, y_predicted))\\n\",\n",
    "# \"# msle = mean_squared_log_error(y_val, y_predicted)\\n\",\n",
    "\n",
    "# print('Test set score: ' + np.sqrt(mean_squared_error(y_val, y_predicted)))\n",
    "\n",
    "# Access the best set of parameters\n",
    "best_params = grid.best_params_\n",
    "print(f'best_params: {best_params}')\n",
    "# Stores the optimum model in best_pipe\n",
    "best_pipe = grid.best_estimator_\n",
    "print(f'best_pipe: {best_pipe}')"
   ],
   "metadata": {
    "collapsed": false,
    "pycharm": {
     "name": "#%%\n"
    }
   }
  },
  {
   "cell_type": "code",
   "execution_count": null,
   "outputs": [
    {
     "name": "stdout",
     "output_type": "stream",
     "text": [
      " 66%|██████▋   | 665/1000 [08:13<04:24,  1.27trial/s, best loss: 15379.02910958904] "
     ]
    }
   ],
   "source": [
    "from model.HyperOptimization import HyperOptimization\n",
    "\n",
    "obj = HyperOptimization(X_train, X_val, y_train, y_val)\n",
    "opt = obj.process(best_pipe_params=best_params, max_evals=1000)"
   ],
   "metadata": {
    "collapsed": false,
    "pycharm": {
     "name": "#%%\n",
     "is_executing": true
    }
   }
  },
  {
   "cell_type": "code",
   "execution_count": null,
   "outputs": [],
   "source": [
    "def unpack(x):\n",
    "    if x:\n",
    "        return x[0]\n",
    "    return np.nan\n",
    "\n",
    "trials_df = pd.DataFrame([pd.Series(t[\"misc\"][\"vals\"]).apply(unpack) for t in opt[1].trials])\n",
    "trials_df[\"loss\"] = [t[\"result\"][\"loss\"] for t in opt[1].trials]\n",
    "trials_df[\"trial_number\"] = trials_df.index\n",
    "trials_df['model_choice'] = trials_df['model_choice'].apply(\n",
    "    lambda x: 'lgbm_regressor' if x == 1 else 'xgb_regressor'\n",
    ")"
   ],
   "metadata": {
    "collapsed": false,
    "pycharm": {
     "name": "#%%\n",
     "is_executing": true
    }
   }
  },
  {
   "cell_type": "code",
   "execution_count": null,
   "outputs": [],
   "source": [
    "def add_hover_data(fig, df, model_choice):\n",
    "    # Filter to only columns that are relevant to the current model choice. Note that this relies on\n",
    "    # the convention of including the model name in the hyperparameter name when we declare the\n",
    "    # search space.\n",
    "    cols = [col for col in df.columns if model_choice in col]\n",
    "    fig.update_traces(\n",
    "        # This specifies the data that we want to plot for the current model choice.\n",
    "        customdata=df.loc[df['model_choice'] == model_choice, cols + ['model_choice']],\n",
    "        hovertemplate=\"<br>\".join(\n",
    "            [\n",
    "                f\"{col.split('__')[1]}: %{{customdata[{i}]}}\"\n",
    "                for i, col in enumerate(cols)\n",
    "            ]\n",
    "        ),\n",
    "        # We only apply the hover data for the current model choice.\n",
    "        selector={\"name\": model_choice},\n",
    "    )\n",
    "    return fig\n",
    "\n",
    "fig = px.scatter(trials_df, x=\"trial_number\", y=\"loss\", color='model_choice')\n",
    "fig = add_hover_data(fig, trials_df, 'lgbmregressor')\n",
    "fig = add_hover_data(fig, trials_df, 'xgbregressor')\n",
    "\n",
    "fig"
   ],
   "metadata": {
    "collapsed": false,
    "pycharm": {
     "name": "#%%\n",
     "is_executing": true
    }
   }
  },
  {
   "cell_type": "code",
   "execution_count": null,
   "outputs": [],
   "source": [
    "def view_contour_plot(trials_df, z, x, y):\n",
    "    # plotly express does not support contour plots so we will use `graph_objects` instead. `go.Contour\n",
    "    # automatically interpolates \"z\" values for our loss.\n",
    "    fig = go.Figure(\n",
    "        data=go.Contour(\n",
    "            z=trials_df.loc[:, z],\n",
    "            x=trials_df.loc[:, x],\n",
    "            y=trials_df.loc[:, y],\n",
    "            contours=dict(\n",
    "                showlabels=True,  # show labels on contours\n",
    "                labelfont=dict(size=12, color=\"white\", ),  # label font properties\n",
    "            ),\n",
    "            colorbar=dict(title=\"loss\", titleside=\"right\", ),\n",
    "            hovertemplate=\"loss: %{z}<br>{x}: %{x}<br>{y}: %{y}<extra></extra>\",\n",
    "        )\n",
    "    )\n",
    "\n",
    "    fig.update_layout(\n",
    "        xaxis_title=f\"{x}\",\n",
    "        yaxis_title=f\"{y}\",\n",
    "        title={\n",
    "            \"text\": f\"{x} vs. {y}\",\n",
    "            \"xanchor\": \"center\",\n",
    "            \"yanchor\": \"top\",\n",
    "            \"x\": 0.5,\n",
    "        },\n",
    "    )\n",
    "    fig.show()"
   ],
   "metadata": {
    "collapsed": false,
    "pycharm": {
     "name": "#%%\n",
     "is_executing": true
    }
   }
  },
  {
   "cell_type": "code",
   "execution_count": null,
   "outputs": [],
   "source": [
    "view_contour_plot(trials_df, 'loss', 'lgbmregressor__learning_rate', 'lgbmregressor__n_estimator')"
   ],
   "metadata": {
    "collapsed": false,
    "pycharm": {
     "name": "#%%\n",
     "is_executing": true
    }
   }
  },
  {
   "cell_type": "code",
   "execution_count": null,
   "outputs": [],
   "source": [
    "view_contour_plot(trials_df, 'loss', 'xgbregressor__learning_rate', 'xgbregressor__n_estimator')"
   ],
   "metadata": {
    "collapsed": false,
    "pycharm": {
     "name": "#%%\n",
     "is_executing": true
    }
   }
  },
  {
   "cell_type": "code",
   "execution_count": null,
   "outputs": [],
   "source": [
    "trials_df[['model_choice', 'loss']].groupby('model_choice').aggregate({\n",
    "    'loss': ['mean', 'std', 'min', 'max']\n",
    "}).reset_index().sort_values(('loss', 'mean'), ascending=False)"
   ],
   "metadata": {
    "collapsed": false,
    "pycharm": {
     "name": "#%%\n",
     "is_executing": true
    }
   }
  },
  {
   "cell_type": "code",
   "execution_count": null,
   "outputs": [],
   "source": [
    "best_params = trials_df.loc[trials_df['model_choice'] == 'xgb_regressor'].sort_values('loss', ascending=True).dropna(axis=1).head(1)\n",
    "best_params"
   ],
   "metadata": {
    "collapsed": false,
    "pycharm": {
     "name": "#%%\n",
     "is_executing": true
    }
   }
  },
  {
   "cell_type": "code",
   "execution_count": null,
   "outputs": [],
   "source": [
    "best_params_dict = best_params.to_dict('records')[0]\n",
    "\n",
    "del best_params_dict['loss']\n",
    "del best_params_dict['trial_number']\n",
    "del best_params_dict['model_choice']\n",
    "# best_params_dict.update({'max_depth': 6, 'Luna': 9})\n",
    "\n",
    "best_params_dict"
   ],
   "metadata": {
    "collapsed": false,
    "pycharm": {
     "name": "#%%\n",
     "is_executing": true
    }
   }
  },
  {
   "cell_type": "code",
   "execution_count": null,
   "outputs": [],
   "source": [
    "xgb_regressor = xgb.XGBRegressor(learning_rate=0.12, max_depth=3, n_estimator=540)\n",
    "best_pipe.set_params(regressor = xgb_regressor)"
   ],
   "metadata": {
    "collapsed": false,
    "pycharm": {
     "name": "#%%\n",
     "is_executing": true
    }
   }
  },
  {
   "cell_type": "code",
   "execution_count": null,
   "metadata": {
    "pycharm": {
     "name": "#%%\n",
     "is_executing": true
    }
   },
   "outputs": [],
   "source": [
    "best_pipe.fit(X_train_dataset, y)\n",
    "y_predicted_test = best_pipe.predict(X_test_dataset)\n",
    "submission = pd.DataFrame(data={'Id': X_test_dataset.Id, 'SalePrice': y_predicted_test})"
   ]
  },
  {
   "cell_type": "code",
   "execution_count": null,
   "metadata": {
    "pycharm": {
     "name": "#%%\n",
     "is_executing": true
    }
   },
   "outputs": [],
   "source": [
    "submission"
   ]
  },
  {
   "cell_type": "code",
   "execution_count": null,
   "outputs": [],
   "source": [
    "submission.to_csv('C:/Users/kamil/Documents/Python Scripts/linear-regression-house-price/submission/submission_house_price.csv', index=False)"
   ],
   "metadata": {
    "collapsed": false,
    "pycharm": {
     "name": "#%%\n"
    }
   }
  }
 ],
 "metadata": {
  "kernelspec": {
   "name": "python3",
   "language": "python",
   "display_name": "Python 3 (ipykernel)"
  },
  "language_info": {
   "codemirror_mode": {
    "name": "ipython",
    "version": 3
   },
   "file_extension": ".py",
   "mimetype": "text/x-python",
   "name": "python",
   "nbconvert_exporter": "python",
   "pygments_lexer": "ipython3",
   "version": "3.7.12"
  }
 },
 "nbformat": 4,
 "nbformat_minor": 4
}